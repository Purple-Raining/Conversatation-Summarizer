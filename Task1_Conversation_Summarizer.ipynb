{
  "nbformat": 4,
  "nbformat_minor": 0,
  "metadata": {
    "colab": {
      "provenance": [],
      "authorship_tag": "ABX9TyNZPbUqtNSfFU7yQqldEyJn",
      "include_colab_link": true
    },
    "kernelspec": {
      "name": "python3",
      "display_name": "Python 3"
    },
    "language_info": {
      "name": "python"
    }
  },
  "cells": [
    {
      "cell_type": "markdown",
      "metadata": {
        "id": "view-in-github",
        "colab_type": "text"
      },
      "source": [
        "<a href=\"https://colab.research.google.com/github/Purple-Raining/Conversation-Summarizer/blob/main/Task1_Conversation_Summarizer.ipynb\" target=\"_parent\"><img src=\"https://colab.research.google.com/assets/colab-badge.svg\" alt=\"Open In Colab\"/></a>"
      ]
    },
    {
      "cell_type": "code",
      "execution_count": null,
      "metadata": {
        "colab": {
          "base_uri": "https://localhost:8080/"
        },
        "id": "ve2_VAdblXiK",
        "outputId": "9a63af3c-fdd3-4ba2-94d6-d3f2d77564fa"
      },
      "outputs": [
        {
          "output_type": "stream",
          "name": "stdout",
          "text": [
            "Requirement already satisfied: openai in /usr/local/lib/python3.12/dist-packages (1.107.0)\n",
            "Collecting openai\n",
            "  Downloading openai-1.107.3-py3-none-any.whl.metadata (29 kB)\n",
            "Requirement already satisfied: anyio<5,>=3.5.0 in /usr/local/lib/python3.12/dist-packages (from openai) (4.10.0)\n",
            "Requirement already satisfied: distro<2,>=1.7.0 in /usr/local/lib/python3.12/dist-packages (from openai) (1.9.0)\n",
            "Requirement already satisfied: httpx<1,>=0.23.0 in /usr/local/lib/python3.12/dist-packages (from openai) (0.28.1)\n",
            "Requirement already satisfied: jiter<1,>=0.4.0 in /usr/local/lib/python3.12/dist-packages (from openai) (0.10.0)\n",
            "Requirement already satisfied: pydantic<3,>=1.9.0 in /usr/local/lib/python3.12/dist-packages (from openai) (2.11.7)\n",
            "Requirement already satisfied: sniffio in /usr/local/lib/python3.12/dist-packages (from openai) (1.3.1)\n",
            "Requirement already satisfied: tqdm>4 in /usr/local/lib/python3.12/dist-packages (from openai) (4.67.1)\n",
            "Requirement already satisfied: typing-extensions<5,>=4.11 in /usr/local/lib/python3.12/dist-packages (from openai) (4.15.0)\n",
            "Requirement already satisfied: idna>=2.8 in /usr/local/lib/python3.12/dist-packages (from anyio<5,>=3.5.0->openai) (3.10)\n",
            "Requirement already satisfied: certifi in /usr/local/lib/python3.12/dist-packages (from httpx<1,>=0.23.0->openai) (2025.8.3)\n",
            "Requirement already satisfied: httpcore==1.* in /usr/local/lib/python3.12/dist-packages (from httpx<1,>=0.23.0->openai) (1.0.9)\n",
            "Requirement already satisfied: h11>=0.16 in /usr/local/lib/python3.12/dist-packages (from httpcore==1.*->httpx<1,>=0.23.0->openai) (0.16.0)\n",
            "Requirement already satisfied: annotated-types>=0.6.0 in /usr/local/lib/python3.12/dist-packages (from pydantic<3,>=1.9.0->openai) (0.7.0)\n",
            "Requirement already satisfied: pydantic-core==2.33.2 in /usr/local/lib/python3.12/dist-packages (from pydantic<3,>=1.9.0->openai) (2.33.2)\n",
            "Requirement already satisfied: typing-inspection>=0.4.0 in /usr/local/lib/python3.12/dist-packages (from pydantic<3,>=1.9.0->openai) (0.4.1)\n",
            "Downloading openai-1.107.3-py3-none-any.whl (947 kB)\n",
            "\u001b[2K   \u001b[90m━━━━━━━━━━━━━━━━━━━━━━━━━━━━━━━━━━━━━━━━\u001b[0m \u001b[32m947.6/947.6 kB\u001b[0m \u001b[31m15.6 MB/s\u001b[0m eta \u001b[36m0:00:00\u001b[0m\n",
            "\u001b[?25hInstalling collected packages: openai\n",
            "  Attempting uninstall: openai\n",
            "    Found existing installation: openai 1.107.0\n",
            "    Uninstalling openai-1.107.0:\n",
            "      Successfully uninstalled openai-1.107.0\n",
            "Successfully installed openai-1.107.3\n",
            "Packages installed and basic imports ready.\n"
          ]
        }
      ],
      "source": [
        "# Install required Libraries\n",
        "!pip install --upgrade openai\n",
        "\n",
        "import os, json, re\n",
        "from getpass import getpass\n",
        "from typing import List, Dict, Any, Tuple\n",
        "\n",
        "print(\"Packages installed and basic imports ready.\")\n"
      ]
    },
    {
      "cell_type": "code",
      "source": [
        "# Secure key input\n",
        "groq_key = getpass(\"Paste your GROQ API key here: \").strip()\n",
        "os.environ[\"GROQ_API_KEY\"] = groq_key\n",
        "print(\"Key stored safely in runtime.\")\n"
      ],
      "metadata": {
        "colab": {
          "base_uri": "https://localhost:8080/"
        },
        "id": "RJhrW1kdneaA",
        "outputId": "e040f77d-62e2-4974-cb5a-75e404760376"
      },
      "execution_count": null,
      "outputs": [
        {
          "output_type": "stream",
          "name": "stdout",
          "text": [
            "Paste your GROQ API key here: ··········\n",
            "Key stored safely in runtime.\n"
          ]
        }
      ]
    },
    {
      "cell_type": "code",
      "source": [
        "class ConversationManager:\n",
        "    def __init__(self, summarizer = None, k = 3):\n",
        "        \"\"\"\n",
        "        Parameters:\n",
        "        - summarizer-> a function that takes a list of messages and returns a summary\n",
        "        - k-> perform summarization after every k-th conversation\n",
        "        \"\"\"\n",
        "        self.history = []  # stores tuples of (role, message)\n",
        "        self.summarizer = summarizer\n",
        "        self.k = k\n",
        "        self.run_count = 0  # count conversations for periodic summarization\n",
        "        self.summary = \"\"   # stores summarized history\n",
        "\n",
        "    def add_message(self, role: str, message: str):\n",
        "        \"\"\"Add a new message to the conversation.\"\"\"\n",
        "        self.history.append((role, message))\n",
        "        self.run_count += 1\n",
        "\n",
        "        # Check if we need to summarize\n",
        "        if self.summarizer and self.run_count % self.k == 0:\n",
        "            self.summarize_history()\n",
        "\n",
        "    def get_history(self, last_n: int = None, max_chars: int = None):\n",
        "        \"\"\"Return truncated history according to limits.\"\"\"\n",
        "        history_text = \"\\n\".join([f\"{r}: {m}\" for r, m in self.history])\n",
        "\n",
        "        # Truncate by last n messages\n",
        "        if last_n is not None:\n",
        "            history_text = \"\\n\".join([f\"{r}: {m}\" for r, m in self.history[-last_n:]])\n",
        "\n",
        "        # Truncate by max characters\n",
        "        if max_chars is not None:\n",
        "            history_text = history_text[-max_chars:]  # last max_chars characters\n",
        "\n",
        "        return history_text\n",
        "\n",
        "    def summarize_history(self):\n",
        "        \"\"\"Generate a summary and replace history with it.\"\"\"\n",
        "        if self.summarizer:\n",
        "            self.summary = self.summarizer(self.history)\n",
        "            # Reset history to summarized version\n",
        "            self.history = [(\"summary\", self.summary)]\n",
        "            print(f\"Summarized after {self.run_count} messages:\\n{self.summary}\\n\")\n"
      ],
      "metadata": {
        "id": "hYqA7OQb2vpv"
      },
      "execution_count": null,
      "outputs": []
    }
  ]
}